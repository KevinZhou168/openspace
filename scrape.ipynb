{
 "cells": [
  {
   "cell_type": "code",
   "execution_count": 1,
   "outputs": [
    {
     "name": "stdout",
     "output_type": "stream",
     "text": [
      "https://uiuc.libcal.com/spaces?lid=3606&gid=0&c=0\n"
     ]
    }
   ],
   "source": [
    "# config, used for both scraping methods\n",
    "base = \"https://uiuc.libcal.com/\"\n",
    "all = \"allspaces\" # base + all\n",
    "id  = { # base + \"spaces/?lid=\" + id of desired library\n",
    "    \"chemistry\": 5903,\n",
    "    \"grainger\": 3606,\n",
    "    \"international\": 5766,\n",
    "    \"main\": 3608,\n",
    "    \"music\": 3153,\n",
    "    \"studio\": 16231\n",
    "}\n",
    "args = \"&gid=0&c=0\" # additional arguments\n",
    "\n",
    "# url to scrape\n",
    "url = base + \"spaces?lid=\" + str(id[\"grainger\"]) + args\n",
    "print(url)"
   ],
   "metadata": {
    "collapsed": false
   }
  },
  {
   "cell_type": "markdown",
   "source": [
    "### Using selenium\n",
    "Recommended"
   ],
   "metadata": {
    "collapsed": false
   }
  },
  {
   "cell_type": "code",
   "execution_count": 2,
   "outputs": [],
   "source": [
    "# imports\n",
    "from selenium import webdriver\n",
    "from selenium.webdriver.common.by import By\n",
    "from webdriver_manager.chrome import ChromeDriverManager"
   ],
   "metadata": {
    "collapsed": false
   }
  },
  {
   "cell_type": "code",
   "execution_count": 3,
   "outputs": [
    {
     "name": "stderr",
     "output_type": "stream",
     "text": [
      "[WDM] - Downloading: 100%|██████████| 6.79M/6.79M [00:00<00:00, 18.7MB/s]\n",
      "C:\\Users\\emmac\\AppData\\Local\\Temp\\ipykernel_16104\\156399995.py:4: DeprecationWarning: executable_path has been deprecated, please pass in a Service object\n",
      "  driver = webdriver.Chrome(ChromeDriverManager().install(), options=options)\n"
     ]
    }
   ],
   "source": [
    "# open selenium instance, using headless to allow running on a server\n",
    "options = webdriver.ChromeOptions()\n",
    "options.add_argument(\"--headless=new\")\n",
    "driver = webdriver.Chrome(ChromeDriverManager().install(), options=options)\n",
    "\n",
    "# non-headless version, for debugging\n",
    "# driver = webdriver.Chrome(ChromeDriverManager().install(), options=options)"
   ],
   "metadata": {
    "collapsed": false
   }
  },
  {
   "cell_type": "code",
   "execution_count": 4,
   "outputs": [],
   "source": [
    "# navigate to url\n",
    "driver.get(url)"
   ],
   "metadata": {
    "collapsed": false
   }
  },
  {
   "cell_type": "code",
   "execution_count": 5,
   "outputs": [
    {
     "data": {
      "text/plain": "169"
     },
     "execution_count": 5,
     "metadata": {},
     "output_type": "execute_result"
    }
   ],
   "source": [
    "# extract data\n",
    "events = [ev.get_attribute(\"title\") for ev in driver.find_elements(By.CLASS_NAME, \"fc-event-today\")]\n",
    "len(events)"
   ],
   "metadata": {
    "collapsed": false
   }
  },
  {
   "cell_type": "code",
   "execution_count": 6,
   "outputs": [
    {
     "name": "stdout",
     "output_type": "stream",
     "text": [
      "5:30pm Sunday, April 2, 2023 - 040A - Unavailable/Padding\n",
      "6:00pm Sunday, April 2, 2023 - 040A - Unavailable/Padding\n",
      "6:30pm Sunday, April 2, 2023 - 040A - Available\n",
      "7:00pm Sunday, April 2, 2023 - 040A - Unavailable/Padding\n",
      "7:30pm Sunday, April 2, 2023 - 040A - Unavailable/Padding\n",
      "8:00pm Sunday, April 2, 2023 - 040A - Unavailable/Padding\n",
      "8:30pm Sunday, April 2, 2023 - 040A - Unavailable/Padding\n",
      "9:00pm Sunday, April 2, 2023 - 040A - Unavailable/Padding\n",
      "9:30pm Sunday, April 2, 2023 - 040A - Unavailable/Padding\n",
      "10:00pm Sunday, April 2, 2023 - 040A - Unavailable/Padding\n",
      "10:30pm Sunday, April 2, 2023 - 040A - Unavailable/Padding\n",
      "11:00pm Sunday, April 2, 2023 - 040A - Available\n",
      "11:30pm Sunday, April 2, 2023 - 040A - Available\n",
      "5:30pm Sunday, April 2, 2023 - 040B - Unavailable/Padding\n",
      "6:00pm Sunday, April 2, 2023 - 040B - Unavailable/Padding\n",
      "6:30pm Sunday, April 2, 2023 - 040B - Unavailable/Padding\n",
      "7:00pm Sunday, April 2, 2023 - 040B - Unavailable/Padding\n",
      "7:30pm Sunday, April 2, 2023 - 040B - Unavailable/Padding\n",
      "8:00pm Sunday, April 2, 2023 - 040B - Unavailable/Padding\n",
      "8:30pm Sunday, April 2, 2023 - 040B - Unavailable/Padding\n",
      "9:00pm Sunday, April 2, 2023 - 040B - Unavailable/Padding\n",
      "9:30pm Sunday, April 2, 2023 - 040B - Unavailable/Padding\n",
      "10:00pm Sunday, April 2, 2023 - 040B - Available\n",
      "10:30pm Sunday, April 2, 2023 - 040B - Available\n",
      "11:00pm Sunday, April 2, 2023 - 040B - Available\n",
      "11:30pm Sunday, April 2, 2023 - 040B - Available\n",
      "5:30pm Sunday, April 2, 2023 - 040C - Unavailable/Padding\n",
      "6:00pm Sunday, April 2, 2023 - 040C - Unavailable/Padding\n",
      "6:30pm Sunday, April 2, 2023 - 040C - Unavailable/Padding\n",
      "7:00pm Sunday, April 2, 2023 - 040C - Available\n",
      "7:30pm Sunday, April 2, 2023 - 040C - Available\n",
      "8:00pm Sunday, April 2, 2023 - 040C - Available\n",
      "8:30pm Sunday, April 2, 2023 - 040C - Available\n",
      "9:00pm Sunday, April 2, 2023 - 040C - Unavailable/Padding\n",
      "9:30pm Sunday, April 2, 2023 - 040C - Unavailable/Padding\n",
      "10:00pm Sunday, April 2, 2023 - 040C - Unavailable/Padding\n",
      "10:30pm Sunday, April 2, 2023 - 040C - Unavailable/Padding\n",
      "11:00pm Sunday, April 2, 2023 - 040C - Available\n",
      "11:30pm Sunday, April 2, 2023 - 040C - Available\n",
      "5:30pm Sunday, April 2, 2023 - 405 - Unavailable/Padding\n",
      "6:00pm Sunday, April 2, 2023 - 405 - Available\n",
      "6:30pm Sunday, April 2, 2023 - 405 - Unavailable/Padding\n",
      "7:00pm Sunday, April 2, 2023 - 405 - Unavailable/Padding\n",
      "7:30pm Sunday, April 2, 2023 - 405 - Unavailable/Padding\n",
      "8:00pm Sunday, April 2, 2023 - 405 - Unavailable/Padding\n",
      "8:30pm Sunday, April 2, 2023 - 405 - Unavailable/Padding\n",
      "9:00pm Sunday, April 2, 2023 - 405 - Unavailable/Padding\n",
      "9:30pm Sunday, April 2, 2023 - 405 - Unavailable/Padding\n",
      "10:00pm Sunday, April 2, 2023 - 405 - Unavailable/Padding\n",
      "10:30pm Sunday, April 2, 2023 - 405 - Unavailable/Padding\n",
      "11:00pm Sunday, April 2, 2023 - 405 - Unavailable/Padding\n",
      "11:30pm Sunday, April 2, 2023 - 405 - Available\n",
      "5:30pm Sunday, April 2, 2023 - 407 - Unavailable/Padding\n",
      "6:00pm Sunday, April 2, 2023 - 407 - Unavailable/Padding\n",
      "6:30pm Sunday, April 2, 2023 - 407 - Unavailable/Padding\n",
      "7:00pm Sunday, April 2, 2023 - 407 - Unavailable/Padding\n",
      "7:30pm Sunday, April 2, 2023 - 407 - Unavailable/Padding\n",
      "8:00pm Sunday, April 2, 2023 - 407 - Unavailable/Padding\n",
      "8:30pm Sunday, April 2, 2023 - 407 - Unavailable/Padding\n",
      "9:00pm Sunday, April 2, 2023 - 407 - Unavailable/Padding\n",
      "9:30pm Sunday, April 2, 2023 - 407 - Unavailable/Padding\n",
      "10:00pm Sunday, April 2, 2023 - 407 - Available\n",
      "10:30pm Sunday, April 2, 2023 - 407 - Available\n",
      "11:00pm Sunday, April 2, 2023 - 407 - Available\n",
      "11:30pm Sunday, April 2, 2023 - 407 - Available\n",
      "5:30pm Sunday, April 2, 2023 - 408 collaboration - Unavailable/Padding\n",
      "6:00pm Sunday, April 2, 2023 - 408 collaboration - Unavailable/Padding\n",
      "6:30pm Sunday, April 2, 2023 - 408 collaboration - Unavailable/Padding\n",
      "7:00pm Sunday, April 2, 2023 - 408 collaboration - Unavailable/Padding\n",
      "7:30pm Sunday, April 2, 2023 - 408 collaboration - Unavailable/Padding\n",
      "8:00pm Sunday, April 2, 2023 - 408 collaboration - Unavailable/Padding\n",
      "8:30pm Sunday, April 2, 2023 - 408 collaboration - Unavailable/Padding\n",
      "9:00pm Sunday, April 2, 2023 - 408 collaboration - Available\n",
      "9:30pm Sunday, April 2, 2023 - 408 collaboration - Available\n",
      "10:00pm Sunday, April 2, 2023 - 408 collaboration - Available\n",
      "10:30pm Sunday, April 2, 2023 - 408 collaboration - Available\n",
      "11:00pm Sunday, April 2, 2023 - 408 collaboration - Available\n",
      "11:30pm Sunday, April 2, 2023 - 408 collaboration - Available\n",
      "5:30pm Sunday, April 2, 2023 - 409 - Unavailable/Padding\n",
      "6:00pm Sunday, April 2, 2023 - 409 - Unavailable/Padding\n",
      "6:30pm Sunday, April 2, 2023 - 409 - Unavailable/Padding\n",
      "7:00pm Sunday, April 2, 2023 - 409 - Unavailable/Padding\n",
      "7:30pm Sunday, April 2, 2023 - 409 - Unavailable/Padding\n",
      "8:00pm Sunday, April 2, 2023 - 409 - Available\n",
      "8:30pm Sunday, April 2, 2023 - 409 - Available\n",
      "9:00pm Sunday, April 2, 2023 - 409 - Available\n",
      "9:30pm Sunday, April 2, 2023 - 409 - Unavailable/Padding\n",
      "10:00pm Sunday, April 2, 2023 - 409 - Unavailable/Padding\n",
      "10:30pm Sunday, April 2, 2023 - 409 - Unavailable/Padding\n",
      "11:00pm Sunday, April 2, 2023 - 409 - Unavailable/Padding\n",
      "11:30pm Sunday, April 2, 2023 - 409 - Available\n",
      "5:30pm Sunday, April 2, 2023 - 410 collaboration - Unavailable/Padding\n",
      "6:00pm Sunday, April 2, 2023 - 410 collaboration - Unavailable/Padding\n",
      "6:30pm Sunday, April 2, 2023 - 410 collaboration - Unavailable/Padding\n",
      "7:00pm Sunday, April 2, 2023 - 410 collaboration - Available\n",
      "7:30pm Sunday, April 2, 2023 - 410 collaboration - Available\n",
      "8:00pm Sunday, April 2, 2023 - 410 collaboration - Available\n",
      "8:30pm Sunday, April 2, 2023 - 410 collaboration - Available\n",
      "9:00pm Sunday, April 2, 2023 - 410 collaboration - Available\n",
      "9:30pm Sunday, April 2, 2023 - 410 collaboration - Available\n",
      "10:00pm Sunday, April 2, 2023 - 410 collaboration - Available\n",
      "10:30pm Sunday, April 2, 2023 - 410 collaboration - Available\n",
      "11:00pm Sunday, April 2, 2023 - 410 collaboration - Available\n",
      "11:30pm Sunday, April 2, 2023 - 410 collaboration - Available\n",
      "5:30pm Sunday, April 2, 2023 - 411 - Unavailable/Padding\n",
      "6:00pm Sunday, April 2, 2023 - 411 - Available\n",
      "6:30pm Sunday, April 2, 2023 - 411 - Available\n",
      "7:00pm Sunday, April 2, 2023 - 411 - Unavailable/Padding\n",
      "7:30pm Sunday, April 2, 2023 - 411 - Unavailable/Padding\n",
      "8:00pm Sunday, April 2, 2023 - 411 - Unavailable/Padding\n",
      "8:30pm Sunday, April 2, 2023 - 411 - Unavailable/Padding\n",
      "9:00pm Sunday, April 2, 2023 - 411 - Unavailable/Padding\n",
      "9:30pm Sunday, April 2, 2023 - 411 - Unavailable/Padding\n",
      "10:00pm Sunday, April 2, 2023 - 411 - Available\n",
      "10:30pm Sunday, April 2, 2023 - 411 - Available\n",
      "11:00pm Sunday, April 2, 2023 - 411 - Available\n",
      "11:30pm Sunday, April 2, 2023 - 411 - Available\n",
      "5:30pm Sunday, April 2, 2023 - 412 - Unavailable/Padding\n",
      "6:00pm Sunday, April 2, 2023 - 412 - Unavailable/Padding\n",
      "6:30pm Sunday, April 2, 2023 - 412 - Available\n",
      "7:00pm Sunday, April 2, 2023 - 412 - Unavailable/Padding\n",
      "7:30pm Sunday, April 2, 2023 - 412 - Unavailable/Padding\n",
      "8:00pm Sunday, April 2, 2023 - 412 - Unavailable/Padding\n",
      "8:30pm Sunday, April 2, 2023 - 412 - Unavailable/Padding\n",
      "9:00pm Sunday, April 2, 2023 - 412 - Unavailable/Padding\n",
      "9:30pm Sunday, April 2, 2023 - 412 - Unavailable/Padding\n",
      "10:00pm Sunday, April 2, 2023 - 412 - Unavailable/Padding\n",
      "10:30pm Sunday, April 2, 2023 - 412 - Unavailable/Padding\n",
      "11:00pm Sunday, April 2, 2023 - 412 - Available\n",
      "11:30pm Sunday, April 2, 2023 - 412 - Available\n",
      "5:30pm Sunday, April 2, 2023 - 413 - Unavailable/Padding\n",
      "6:00pm Sunday, April 2, 2023 - 413 - Unavailable/Padding\n",
      "6:30pm Sunday, April 2, 2023 - 413 - Unavailable/Padding\n",
      "7:00pm Sunday, April 2, 2023 - 413 - Unavailable/Padding\n",
      "7:30pm Sunday, April 2, 2023 - 413 - Unavailable/Padding\n",
      "8:00pm Sunday, April 2, 2023 - 413 - Unavailable/Padding\n",
      "8:30pm Sunday, April 2, 2023 - 413 - Unavailable/Padding\n",
      "9:00pm Sunday, April 2, 2023 - 413 - Available\n",
      "9:30pm Sunday, April 2, 2023 - 413 - Available\n",
      "10:00pm Sunday, April 2, 2023 - 413 - Available\n",
      "10:30pm Sunday, April 2, 2023 - 413 - Available\n",
      "11:00pm Sunday, April 2, 2023 - 413 - Available\n",
      "11:30pm Sunday, April 2, 2023 - 413 - Available\n",
      "5:30pm Sunday, April 2, 2023 - 414 - Unavailable/Padding\n",
      "6:00pm Sunday, April 2, 2023 - 414 - Unavailable/Padding\n",
      "6:30pm Sunday, April 2, 2023 - 414 - Unavailable/Padding\n",
      "7:00pm Sunday, April 2, 2023 - 414 - Unavailable/Padding\n",
      "7:30pm Sunday, April 2, 2023 - 414 - Unavailable/Padding\n",
      "8:00pm Sunday, April 2, 2023 - 414 - Unavailable/Padding\n",
      "8:30pm Sunday, April 2, 2023 - 414 - Unavailable/Padding\n",
      "9:00pm Sunday, April 2, 2023 - 414 - Unavailable/Padding\n",
      "9:30pm Sunday, April 2, 2023 - 414 - Unavailable/Padding\n",
      "10:00pm Sunday, April 2, 2023 - 414 - Unavailable/Padding\n",
      "10:30pm Sunday, April 2, 2023 - 414 - Unavailable/Padding\n",
      "11:00pm Sunday, April 2, 2023 - 414 - Unavailable/Padding\n",
      "11:30pm Sunday, April 2, 2023 - 414 - Unavailable/Padding\n",
      "5:30pm Sunday, April 2, 2023 - 415 - Unavailable/Padding\n",
      "6:00pm Sunday, April 2, 2023 - 415 - Unavailable/Padding\n",
      "6:30pm Sunday, April 2, 2023 - 415 - Unavailable/Padding\n",
      "7:00pm Sunday, April 2, 2023 - 415 - Available\n",
      "7:30pm Sunday, April 2, 2023 - 415 - Available\n",
      "8:00pm Sunday, April 2, 2023 - 415 - Unavailable/Padding\n",
      "8:30pm Sunday, April 2, 2023 - 415 - Unavailable/Padding\n",
      "9:00pm Sunday, April 2, 2023 - 415 - Unavailable/Padding\n",
      "9:30pm Sunday, April 2, 2023 - 415 - Unavailable/Padding\n",
      "10:00pm Sunday, April 2, 2023 - 415 - Unavailable/Padding\n",
      "10:30pm Sunday, April 2, 2023 - 415 - Unavailable/Padding\n",
      "11:00pm Sunday, April 2, 2023 - 415 - Unavailable/Padding\n",
      "11:30pm Sunday, April 2, 2023 - 415 - Unavailable/Padding\n"
     ]
    }
   ],
   "source": [
    "for ev in events:\n",
    "    print(ev)"
   ],
   "metadata": {
    "collapsed": false
   }
  },
  {
   "cell_type": "code",
   "execution_count": 7,
   "outputs": [],
   "source": [
    "# quit driver, if running\n",
    "driver.quit()"
   ],
   "metadata": {
    "collapsed": false
   }
  },
  {
   "cell_type": "markdown",
   "source": [
    "### Using requests-html\n",
    "This is less consistent than selenium, but I'm leaving it as a secondary option"
   ],
   "metadata": {
    "collapsed": false
   }
  },
  {
   "cell_type": "code",
   "execution_count": 8,
   "outputs": [],
   "source": [
    "# import\n",
    "from requests_html import AsyncHTMLSession"
   ],
   "metadata": {
    "collapsed": false
   }
  },
  {
   "cell_type": "code",
   "execution_count": 27,
   "outputs": [],
   "source": [
    "# open session, navigate to page, and render JS\n",
    "session = AsyncHTMLSession()\n",
    "r = await session.get(url)\n",
    "await r.html.arender()"
   ],
   "metadata": {
    "collapsed": false
   }
  },
  {
   "cell_type": "code",
   "execution_count": 28,
   "outputs": [
    {
     "data": {
      "text/plain": "169"
     },
     "execution_count": 28,
     "metadata": {},
     "output_type": "execute_result"
    }
   ],
   "source": [
    "# extract data\n",
    "events = [ev.attrs[\"title\"] for ev in r.html.find(\".fc-event-today\")]\n",
    "len(events)"
   ],
   "metadata": {
    "collapsed": false
   }
  },
  {
   "cell_type": "code",
   "execution_count": 14,
   "outputs": [
    {
     "name": "stdout",
     "output_type": "stream",
     "text": [
      "5:30pm Sunday, April 2, 2023 - 040A - Unavailable/Padding\n",
      "6:00pm Sunday, April 2, 2023 - 040A - Unavailable/Padding\n",
      "6:30pm Sunday, April 2, 2023 - 040A - Available\n",
      "7:00pm Sunday, April 2, 2023 - 040A - Unavailable/Padding\n",
      "7:30pm Sunday, April 2, 2023 - 040A - Unavailable/Padding\n",
      "8:00pm Sunday, April 2, 2023 - 040A - Unavailable/Padding\n",
      "8:30pm Sunday, April 2, 2023 - 040A - Unavailable/Padding\n",
      "9:00pm Sunday, April 2, 2023 - 040A - Unavailable/Padding\n",
      "9:30pm Sunday, April 2, 2023 - 040A - Unavailable/Padding\n",
      "10:00pm Sunday, April 2, 2023 - 040A - Unavailable/Padding\n",
      "10:30pm Sunday, April 2, 2023 - 040A - Unavailable/Padding\n",
      "11:00pm Sunday, April 2, 2023 - 040A - Available\n",
      "11:30pm Sunday, April 2, 2023 - 040A - Available\n",
      "5:30pm Sunday, April 2, 2023 - 040B - Unavailable/Padding\n",
      "6:00pm Sunday, April 2, 2023 - 040B - Unavailable/Padding\n",
      "6:30pm Sunday, April 2, 2023 - 040B - Unavailable/Padding\n",
      "7:00pm Sunday, April 2, 2023 - 040B - Unavailable/Padding\n",
      "7:30pm Sunday, April 2, 2023 - 040B - Unavailable/Padding\n",
      "8:00pm Sunday, April 2, 2023 - 040B - Unavailable/Padding\n",
      "8:30pm Sunday, April 2, 2023 - 040B - Unavailable/Padding\n",
      "9:00pm Sunday, April 2, 2023 - 040B - Unavailable/Padding\n",
      "9:30pm Sunday, April 2, 2023 - 040B - Unavailable/Padding\n",
      "10:00pm Sunday, April 2, 2023 - 040B - Available\n",
      "10:30pm Sunday, April 2, 2023 - 040B - Available\n",
      "11:00pm Sunday, April 2, 2023 - 040B - Available\n",
      "11:30pm Sunday, April 2, 2023 - 040B - Available\n",
      "5:30pm Sunday, April 2, 2023 - 040C - Unavailable/Padding\n",
      "6:00pm Sunday, April 2, 2023 - 040C - Unavailable/Padding\n",
      "6:30pm Sunday, April 2, 2023 - 040C - Unavailable/Padding\n",
      "7:00pm Sunday, April 2, 2023 - 040C - Available\n",
      "7:30pm Sunday, April 2, 2023 - 040C - Available\n",
      "8:00pm Sunday, April 2, 2023 - 040C - Available\n",
      "8:30pm Sunday, April 2, 2023 - 040C - Available\n",
      "9:00pm Sunday, April 2, 2023 - 040C - Unavailable/Padding\n",
      "9:30pm Sunday, April 2, 2023 - 040C - Unavailable/Padding\n",
      "10:00pm Sunday, April 2, 2023 - 040C - Unavailable/Padding\n",
      "10:30pm Sunday, April 2, 2023 - 040C - Unavailable/Padding\n",
      "11:00pm Sunday, April 2, 2023 - 040C - Available\n",
      "11:30pm Sunday, April 2, 2023 - 040C - Available\n",
      "5:30pm Sunday, April 2, 2023 - 405 - Unavailable/Padding\n",
      "6:00pm Sunday, April 2, 2023 - 405 - Available\n",
      "6:30pm Sunday, April 2, 2023 - 405 - Unavailable/Padding\n",
      "7:00pm Sunday, April 2, 2023 - 405 - Unavailable/Padding\n",
      "7:30pm Sunday, April 2, 2023 - 405 - Unavailable/Padding\n",
      "8:00pm Sunday, April 2, 2023 - 405 - Unavailable/Padding\n",
      "8:30pm Sunday, April 2, 2023 - 405 - Unavailable/Padding\n",
      "9:00pm Sunday, April 2, 2023 - 405 - Unavailable/Padding\n",
      "9:30pm Sunday, April 2, 2023 - 405 - Unavailable/Padding\n",
      "10:00pm Sunday, April 2, 2023 - 405 - Unavailable/Padding\n",
      "10:30pm Sunday, April 2, 2023 - 405 - Unavailable/Padding\n",
      "11:00pm Sunday, April 2, 2023 - 405 - Unavailable/Padding\n",
      "11:30pm Sunday, April 2, 2023 - 405 - Available\n",
      "5:30pm Sunday, April 2, 2023 - 407 - Unavailable/Padding\n",
      "6:00pm Sunday, April 2, 2023 - 407 - Unavailable/Padding\n",
      "6:30pm Sunday, April 2, 2023 - 407 - Unavailable/Padding\n",
      "7:00pm Sunday, April 2, 2023 - 407 - Unavailable/Padding\n",
      "7:30pm Sunday, April 2, 2023 - 407 - Unavailable/Padding\n",
      "8:00pm Sunday, April 2, 2023 - 407 - Unavailable/Padding\n",
      "8:30pm Sunday, April 2, 2023 - 407 - Unavailable/Padding\n",
      "9:00pm Sunday, April 2, 2023 - 407 - Unavailable/Padding\n",
      "9:30pm Sunday, April 2, 2023 - 407 - Unavailable/Padding\n",
      "10:00pm Sunday, April 2, 2023 - 407 - Available\n",
      "10:30pm Sunday, April 2, 2023 - 407 - Available\n",
      "11:00pm Sunday, April 2, 2023 - 407 - Available\n",
      "11:30pm Sunday, April 2, 2023 - 407 - Available\n",
      "5:30pm Sunday, April 2, 2023 - 408 collaboration - Unavailable/Padding\n",
      "6:00pm Sunday, April 2, 2023 - 408 collaboration - Unavailable/Padding\n",
      "6:30pm Sunday, April 2, 2023 - 408 collaboration - Unavailable/Padding\n",
      "7:00pm Sunday, April 2, 2023 - 408 collaboration - Unavailable/Padding\n",
      "7:30pm Sunday, April 2, 2023 - 408 collaboration - Unavailable/Padding\n",
      "8:00pm Sunday, April 2, 2023 - 408 collaboration - Unavailable/Padding\n",
      "8:30pm Sunday, April 2, 2023 - 408 collaboration - Unavailable/Padding\n",
      "9:00pm Sunday, April 2, 2023 - 408 collaboration - Available\n",
      "9:30pm Sunday, April 2, 2023 - 408 collaboration - Available\n",
      "10:00pm Sunday, April 2, 2023 - 408 collaboration - Available\n",
      "10:30pm Sunday, April 2, 2023 - 408 collaboration - Available\n",
      "11:00pm Sunday, April 2, 2023 - 408 collaboration - Available\n",
      "11:30pm Sunday, April 2, 2023 - 408 collaboration - Available\n",
      "5:30pm Sunday, April 2, 2023 - 409 - Unavailable/Padding\n",
      "6:00pm Sunday, April 2, 2023 - 409 - Unavailable/Padding\n",
      "6:30pm Sunday, April 2, 2023 - 409 - Unavailable/Padding\n",
      "7:00pm Sunday, April 2, 2023 - 409 - Unavailable/Padding\n",
      "7:30pm Sunday, April 2, 2023 - 409 - Unavailable/Padding\n",
      "8:00pm Sunday, April 2, 2023 - 409 - Available\n",
      "8:30pm Sunday, April 2, 2023 - 409 - Available\n",
      "9:00pm Sunday, April 2, 2023 - 409 - Available\n",
      "9:30pm Sunday, April 2, 2023 - 409 - Unavailable/Padding\n",
      "10:00pm Sunday, April 2, 2023 - 409 - Unavailable/Padding\n",
      "10:30pm Sunday, April 2, 2023 - 409 - Unavailable/Padding\n",
      "11:00pm Sunday, April 2, 2023 - 409 - Unavailable/Padding\n",
      "11:30pm Sunday, April 2, 2023 - 409 - Available\n",
      "5:30pm Sunday, April 2, 2023 - 410 collaboration - Unavailable/Padding\n",
      "6:00pm Sunday, April 2, 2023 - 410 collaboration - Unavailable/Padding\n",
      "6:30pm Sunday, April 2, 2023 - 410 collaboration - Unavailable/Padding\n",
      "7:00pm Sunday, April 2, 2023 - 410 collaboration - Available\n",
      "7:30pm Sunday, April 2, 2023 - 410 collaboration - Available\n",
      "8:00pm Sunday, April 2, 2023 - 410 collaboration - Available\n",
      "8:30pm Sunday, April 2, 2023 - 410 collaboration - Available\n",
      "9:00pm Sunday, April 2, 2023 - 410 collaboration - Available\n",
      "9:30pm Sunday, April 2, 2023 - 410 collaboration - Available\n",
      "10:00pm Sunday, April 2, 2023 - 410 collaboration - Available\n",
      "10:30pm Sunday, April 2, 2023 - 410 collaboration - Available\n",
      "11:00pm Sunday, April 2, 2023 - 410 collaboration - Available\n",
      "11:30pm Sunday, April 2, 2023 - 410 collaboration - Available\n",
      "5:30pm Sunday, April 2, 2023 - 411 - Unavailable/Padding\n",
      "6:00pm Sunday, April 2, 2023 - 411 - Available\n",
      "6:30pm Sunday, April 2, 2023 - 411 - Available\n",
      "7:00pm Sunday, April 2, 2023 - 411 - Unavailable/Padding\n",
      "7:30pm Sunday, April 2, 2023 - 411 - Unavailable/Padding\n",
      "8:00pm Sunday, April 2, 2023 - 411 - Unavailable/Padding\n",
      "8:30pm Sunday, April 2, 2023 - 411 - Unavailable/Padding\n",
      "9:00pm Sunday, April 2, 2023 - 411 - Unavailable/Padding\n",
      "9:30pm Sunday, April 2, 2023 - 411 - Unavailable/Padding\n",
      "10:00pm Sunday, April 2, 2023 - 411 - Available\n",
      "10:30pm Sunday, April 2, 2023 - 411 - Available\n",
      "11:00pm Sunday, April 2, 2023 - 411 - Available\n",
      "11:30pm Sunday, April 2, 2023 - 411 - Available\n",
      "5:30pm Sunday, April 2, 2023 - 412 - Unavailable/Padding\n",
      "6:00pm Sunday, April 2, 2023 - 412 - Unavailable/Padding\n",
      "6:30pm Sunday, April 2, 2023 - 412 - Available\n",
      "7:00pm Sunday, April 2, 2023 - 412 - Unavailable/Padding\n",
      "7:30pm Sunday, April 2, 2023 - 412 - Unavailable/Padding\n",
      "8:00pm Sunday, April 2, 2023 - 412 - Unavailable/Padding\n",
      "8:30pm Sunday, April 2, 2023 - 412 - Unavailable/Padding\n",
      "9:00pm Sunday, April 2, 2023 - 412 - Unavailable/Padding\n",
      "9:30pm Sunday, April 2, 2023 - 412 - Unavailable/Padding\n",
      "10:00pm Sunday, April 2, 2023 - 412 - Unavailable/Padding\n",
      "10:30pm Sunday, April 2, 2023 - 412 - Unavailable/Padding\n",
      "11:00pm Sunday, April 2, 2023 - 412 - Available\n",
      "11:30pm Sunday, April 2, 2023 - 412 - Available\n",
      "5:30pm Sunday, April 2, 2023 - 413 - Unavailable/Padding\n",
      "6:00pm Sunday, April 2, 2023 - 413 - Unavailable/Padding\n",
      "6:30pm Sunday, April 2, 2023 - 413 - Unavailable/Padding\n",
      "7:00pm Sunday, April 2, 2023 - 413 - Unavailable/Padding\n",
      "7:30pm Sunday, April 2, 2023 - 413 - Unavailable/Padding\n",
      "8:00pm Sunday, April 2, 2023 - 413 - Unavailable/Padding\n",
      "8:30pm Sunday, April 2, 2023 - 413 - Unavailable/Padding\n",
      "9:00pm Sunday, April 2, 2023 - 413 - Available\n",
      "9:30pm Sunday, April 2, 2023 - 413 - Available\n",
      "10:00pm Sunday, April 2, 2023 - 413 - Available\n",
      "10:30pm Sunday, April 2, 2023 - 413 - Available\n",
      "11:00pm Sunday, April 2, 2023 - 413 - Available\n",
      "11:30pm Sunday, April 2, 2023 - 413 - Available\n",
      "5:30pm Sunday, April 2, 2023 - 414 - Unavailable/Padding\n",
      "6:00pm Sunday, April 2, 2023 - 414 - Unavailable/Padding\n",
      "6:30pm Sunday, April 2, 2023 - 414 - Unavailable/Padding\n",
      "7:00pm Sunday, April 2, 2023 - 414 - Unavailable/Padding\n",
      "7:30pm Sunday, April 2, 2023 - 414 - Unavailable/Padding\n",
      "8:00pm Sunday, April 2, 2023 - 414 - Unavailable/Padding\n",
      "8:30pm Sunday, April 2, 2023 - 414 - Unavailable/Padding\n",
      "9:00pm Sunday, April 2, 2023 - 414 - Unavailable/Padding\n",
      "9:30pm Sunday, April 2, 2023 - 414 - Unavailable/Padding\n",
      "10:00pm Sunday, April 2, 2023 - 414 - Unavailable/Padding\n",
      "10:30pm Sunday, April 2, 2023 - 414 - Unavailable/Padding\n",
      "11:00pm Sunday, April 2, 2023 - 414 - Unavailable/Padding\n",
      "11:30pm Sunday, April 2, 2023 - 414 - Unavailable/Padding\n",
      "5:30pm Sunday, April 2, 2023 - 415 - Unavailable/Padding\n",
      "6:00pm Sunday, April 2, 2023 - 415 - Unavailable/Padding\n",
      "6:30pm Sunday, April 2, 2023 - 415 - Unavailable/Padding\n",
      "7:00pm Sunday, April 2, 2023 - 415 - Available\n",
      "7:30pm Sunday, April 2, 2023 - 415 - Available\n",
      "8:00pm Sunday, April 2, 2023 - 415 - Unavailable/Padding\n",
      "8:30pm Sunday, April 2, 2023 - 415 - Unavailable/Padding\n",
      "9:00pm Sunday, April 2, 2023 - 415 - Unavailable/Padding\n",
      "9:30pm Sunday, April 2, 2023 - 415 - Unavailable/Padding\n",
      "10:00pm Sunday, April 2, 2023 - 415 - Unavailable/Padding\n",
      "10:30pm Sunday, April 2, 2023 - 415 - Unavailable/Padding\n",
      "11:00pm Sunday, April 2, 2023 - 415 - Unavailable/Padding\n",
      "11:30pm Sunday, April 2, 2023 - 415 - Unavailable/Padding\n"
     ]
    }
   ],
   "source": [
    "for ev in events:\n",
    "    print(ev)"
   ],
   "metadata": {
    "collapsed": false
   }
  },
  {
   "cell_type": "markdown",
   "source": [],
   "metadata": {
    "collapsed": false
   }
  }
 ],
 "metadata": {
  "kernelspec": {
   "display_name": "Python 3",
   "language": "python",
   "name": "python3"
  },
  "language_info": {
   "codemirror_mode": {
    "name": "ipython",
    "version": 2
   },
   "file_extension": ".py",
   "mimetype": "text/x-python",
   "name": "python",
   "nbconvert_exporter": "python",
   "pygments_lexer": "ipython2",
   "version": "2.7.6"
  }
 },
 "nbformat": 4,
 "nbformat_minor": 0
}

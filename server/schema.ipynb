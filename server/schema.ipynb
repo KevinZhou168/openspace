{
 "cells": [
  {
   "cell_type": "code",
   "execution_count": 12,
   "metadata": {},
   "outputs": [],
   "source": [
    "from typing import List, Optional\n",
    "import datetime\n",
    "from sqlalchemy.orm import Mapped, mapped_column, relationship, DeclarativeBase\n",
    "from sqlalchemy.sql import func\n",
    "from sqlalchemy.types import DateTime\n",
    "from sqlalchemy import ForeignKey\n",
    "import uuid\n",
    "\n"
   ]
  },
  {
   "cell_type": "code",
   "execution_count": 16,
   "metadata": {},
   "outputs": [],
   "source": [
    "\n",
    "class Base(DeclarativeBase):\n",
    "    pass\n",
    "\n",
    "class Building(Base):\n",
    "    __tablename__=\"building\"\n",
    "    id: Mapped[uuid.UUID] = mapped_column(primary_key=True, default=uuid.uuid4())\n",
    "    address: Mapped[Optional[str]]\n",
    "    location: Mapped[Optional[str]]\n",
    "    capacity: Mapped[Optional[str]]\n",
    "    busyness: Mapped[str]\n",
    "    \n",
    "    rooms: Mapped[Optional[List[\"Room\"]]] = relationship(back_populates=\"building\")\n",
    "\n",
    "    inputs: Mapped[List[\"Input\"]] = relationship(back_populates=\"building\")\n",
    "\n",
    "    last_updated: Mapped[datetime.datetime]= mapped_column(onupdate=func.now())\n",
    "\n",
    "    def __repr__(self) -> str:\n",
    "        return f\"User(id={self.id!r}, address={self.address!r}, location={self.location!r}, capacity={self.capacity!r}, busyness={self.busyness!r}, last_updated={self.last_updated!r})\"\n",
    "\n",
    "class Room(Base):\n",
    "    __tablename__=\"room\"\n",
    "    building_id = mapped_column(ForeignKey(\"building.id\"), primary_key=True)\n",
    "    room_number: Mapped[int] = mapped_column(primary_key=True)\n",
    "    busyness: Mapped[str]\n",
    "\n",
    "    building: Mapped[Building] = relationship(back_populates=\"rooms\")\n",
    "    \n",
    "    def __repr__(self) -> str:\n",
    "        return f\"Room(room_number={self.room_number!r}, busyness={self.busyness!r})\"\n",
    "\n",
    "class Input(Base):\n",
    "    __tablename__=\"input\"\n",
    "    id: Mapped[uuid.UUID] = mapped_column(primary_key=True, default=uuid.uuid4())\n",
    "    building_id = mapped_column(ForeignKey(\"building.id\"))\n",
    "    busyness: Mapped[str]\n",
    "\n",
    "    building: Mapped[Building] = relationship(back_populates=\"inputs\")\n",
    "\n",
    "    def __repr__(self) -> str:\n",
    "        return f\"Input(id={self.id!r}, busyness={self.busyness!r})\"\n",
    "\n",
    "\n",
    "    \n",
    "\n",
    "\n"
   ]
  }
 ],
 "metadata": {
  "kernelspec": {
   "display_name": "Python 3.11.5 ('openspace')",
   "language": "python",
   "name": "python3"
  },
  "language_info": {
   "codemirror_mode": {
    "name": "ipython",
    "version": 3
   },
   "file_extension": ".py",
   "mimetype": "text/x-python",
   "name": "python",
   "nbconvert_exporter": "python",
   "pygments_lexer": "ipython3",
   "version": "3.11.5"
  },
  "orig_nbformat": 4,
  "vscode": {
   "interpreter": {
    "hash": "cb62179354d303eac88ea116a212e5386023ab9ac811765a2b2d0d02a64d5641"
   }
  }
 },
 "nbformat": 4,
 "nbformat_minor": 2
}
